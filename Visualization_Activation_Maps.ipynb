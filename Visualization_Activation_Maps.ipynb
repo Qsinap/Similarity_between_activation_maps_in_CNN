{
  "nbformat": 4,
  "nbformat_minor": 0,
  "metadata": {
    "colab": {
      "name": "Visualization_Activation_Maps.ipynb",
      "provenance": [],
      "collapsed_sections": []
    },
    "kernelspec": {
      "name": "python3",
      "display_name": "Python 3"
    },
    "language_info": {
      "name": "python"
    },
    "accelerator": "GPU"
  },
  "cells": [
    {
      "cell_type": "code",
      "metadata": {
        "id": "SzaVgj46dOO4"
      },
      "source": [
        "from google.colab import drive\n",
        "drive.mount('/content/drive')"
      ],
      "execution_count": null,
      "outputs": []
    },
    {
      "cell_type": "code",
      "metadata": {
        "id": "XHu2rhi-iiyi"
      },
      "source": [
        "from tensorflow import keras\n",
        "import matplotlib.pyplot as plt\n",
        "import tensorflow as tf\n",
        "import numpy as np\n",
        "import glob\n",
        "import scipy.io as sio\n",
        "import seaborn as sns"
      ],
      "execution_count": null,
      "outputs": []
    },
    {
      "cell_type": "code",
      "metadata": {
        "id": "OJQoc60omr6p"
      },
      "source": [
        "def shapeNposition_w(mod, see=True, plot=False):\n",
        "  weights=mod.get_weights()\n",
        "  print('Number of layers: ', np.shape(weights))\n",
        "  cont=1\n",
        "  cont_l=[]\n",
        "  sh=[]\n",
        "  ker=[]\n",
        "  shp_0=(0,0,0,0)\n",
        "  positions=[]\n",
        "\n",
        "  for n,i in enumerate(weights):\n",
        "    if  len(np.shape(i))==4:\n",
        "      shp_1=np.shape(i)\n",
        "      if see:    \n",
        "        if shp_1[2]!=shp_0[3]:\n",
        "          print('Position:', n, '\\tlayer No.:', cont, '\\t', np.shape(i), '*')\n",
        "        else:\n",
        "          print('Position:', n, '\\tlayer No.:', cont, '\\t', np.shape(i))\n",
        "      positions=np.append(positions,n)\n",
        "      cont_l=np.append(cont_l,cont)\n",
        "      ker=np.append(ker,np.shape(i)[-1])\n",
        "      sh=np.append(sh,str(np.shape(i)[:2]))\n",
        "\n",
        "      shp_0=shp_1\n",
        "      cont=cont+1\n",
        "\n",
        "  if plot:\n",
        "    sns.set_theme(style=\"darkgrid\")\n",
        "    plt.figure(figsize=(20,7))\n",
        "    plt.bar(cont_l, ker)\n",
        "    plt.xlabel('Convolutional layers')\n",
        "    plt.ylabel('Number of filters (kernels)')\n",
        "    plt.title('ResNet50v2')\n",
        "    for i in range(np.shape(ker)[0]):\n",
        "      plt.text(cont_l[i],ker[i], sh[i], horizontalalignment='center', verticalalignment='bottom', rotation='vertical')\n",
        "\n",
        "  positions=positions.astype('int')\n",
        "  return positions"
      ],
      "execution_count": null,
      "outputs": []
    },
    {
      "cell_type": "code",
      "metadata": {
        "id": "QwbtM2ZsnJsB"
      },
      "source": [
        "def positionNnameLayers(mod, see=True, layer='conv'):\n",
        "  layer_f={'conv':'.convolutional.Conv2D', 'block': '.merge.Add'}\n",
        "  position=[]\n",
        "  names=[]\n",
        "  cont=0\n",
        "  for n, i in enumerate(mod.layers):\n",
        "    if str(i).find(layer_f[layer])!=-1:\n",
        "      cont=cont+1\n",
        "      name_conv=i.name\n",
        "      names=np.append(names,name_conv)\n",
        "      if see:\n",
        "        print(n, cont, name_conv)\n",
        "      position=np.append(position,n)\n",
        "  return names"
      ],
      "execution_count": null,
      "outputs": []
    },
    {
      "cell_type": "markdown",
      "metadata": {
        "id": "v0xlPUjhrei1"
      },
      "source": [
        "### Model"
      ]
    },
    {
      "cell_type": "code",
      "metadata": {
        "id": "VckkJS-_h-F2"
      },
      "source": [
        "modelx = keras.applications.ResNet50V2(weights=\"imagenet\", include_top=False, input_shape=(256,256,3))"
      ],
      "execution_count": null,
      "outputs": []
    },
    {
      "cell_type": "code",
      "metadata": {
        "id": "Cny4QY-sxKRP"
      },
      "source": [
        "_=shapeNposition_w(modelx, see=False, plot=True)\n",
        "layer_names=positionNnameLayers(modelx, False)"
      ],
      "execution_count": null,
      "outputs": []
    },
    {
      "cell_type": "markdown",
      "metadata": {
        "id": "4V_j0ytEZzfM"
      },
      "source": [
        "### Datasets"
      ]
    },
    {
      "cell_type": "code",
      "metadata": {
        "id": "uVbr575edmV4"
      },
      "source": [
        "path=\"/content/drive/MyDrive/INDIGO_MLR/TumoresCerebrales/\"\n",
        "mats=glob.glob(path+'imag*.mat')\n",
        "print(np.shape(mats))"
      ],
      "execution_count": null,
      "outputs": []
    },
    {
      "cell_type": "code",
      "metadata": {
        "id": "PJ0iUGkPdxhg"
      },
      "source": [
        "images=[]\n",
        "labels=[]\n",
        "\n",
        "for n, i in enumerate(mats):\n",
        "  data=sio.loadmat(i)\n",
        "  n_sub,rows,cols=np.shape(data['images'])\n",
        "  labels=np.append(labels,data['labels'][0])\n",
        "  ima=np.array(data['images'], np.dtype('float32')).reshape((n_sub,rows,cols,1))\n",
        "  if n==0:   \n",
        "    images=ima\n",
        "  else:\n",
        "    images=np.concatenate((images,ima))"
      ],
      "execution_count": null,
      "outputs": []
    },
    {
      "cell_type": "code",
      "metadata": {
        "id": "uqlnA68seDjI"
      },
      "source": [
        "images=tf.image.resize(images, [256,256], method='nearest')"
      ],
      "execution_count": null,
      "outputs": []
    },
    {
      "cell_type": "code",
      "metadata": {
        "id": "5RAqZ8mvfFfY"
      },
      "source": [
        "images=tf.image.grayscale_to_rgb(images)"
      ],
      "execution_count": null,
      "outputs": []
    },
    {
      "cell_type": "code",
      "metadata": {
        "id": "-TCclIN3fiy4"
      },
      "source": [
        "bacth=1\n",
        "sz=np.shape(images)[0]\n",
        "idx=np.random.choice(sz-bacth-1)\n",
        "img_tensor=images[idx:idx+bacth]"
      ],
      "execution_count": null,
      "outputs": []
    },
    {
      "cell_type": "markdown",
      "metadata": {
        "id": "SCSUr1UWrvaO"
      },
      "source": [
        "### Activation layers"
      ]
    },
    {
      "cell_type": "code",
      "metadata": {
        "id": "RVmzNEfnsL5N"
      },
      "source": [
        "def activation_layers(mod, layer_n, img_t, pos=0):\n",
        "  layer = mod.get_layer(name=layer_n[pos])\n",
        "  activation_model=keras.Model(inputs=mod.inputs, outputs=layer.output)\n",
        "  activations = activation_model.predict(img_t)\n",
        "\n",
        "  siz=np.shape(activations)\n",
        "  num_k=siz[-1]\n",
        "  col=int(np.sqrt(num_k))\n",
        "  row=(num_k//col)+int((num_k%col)!=0)\n",
        "\n",
        "  plt.figure(figsize=(20,20))\n",
        "  for i in range(num_k):\n",
        "    plt.subplot(row,col,i+1)\n",
        "    plt.imshow(activations[0,:,:,i])\n",
        "    plt.axis('off')"
      ],
      "execution_count": null,
      "outputs": []
    },
    {
      "cell_type": "code",
      "metadata": {
        "id": "8FN2vl5gtYTw"
      },
      "source": [
        "plt.imshow(img_tensor[0,:,:,0])\n",
        "plt.axis('off')\n",
        "plt.grid('off')"
      ],
      "execution_count": null,
      "outputs": []
    },
    {
      "cell_type": "code",
      "metadata": {
        "id": "7jiaBvgstEgl"
      },
      "source": [
        "activation_layers(modelx, layer_names, img_tensor, pos=0)"
      ],
      "execution_count": null,
      "outputs": []
    },
    {
      "cell_type": "code",
      "metadata": {
        "id": "e5viPmdht1lN"
      },
      "source": [
        "activation_layers(modelx, layer_names, img_tensor, pos=1)"
      ],
      "execution_count": null,
      "outputs": []
    },
    {
      "cell_type": "code",
      "metadata": {
        "id": "zMv1LIkRt0Md"
      },
      "source": [
        "activation_layers(modelx, layer_names, img_tensor, pos=2)"
      ],
      "execution_count": null,
      "outputs": []
    },
    {
      "cell_type": "code",
      "metadata": {
        "id": "uIqb75R4t8UU"
      },
      "source": [
        "activation_layers(modelx, layer_names, img_tensor, pos=3)"
      ],
      "execution_count": null,
      "outputs": []
    },
    {
      "cell_type": "code",
      "metadata": {
        "id": "flfkCwigt-CU"
      },
      "source": [
        "activation_layers(modelx, layer_names, img_tensor, pos=4)"
      ],
      "execution_count": null,
      "outputs": []
    },
    {
      "cell_type": "code",
      "metadata": {
        "id": "JNSA1LO2t_uU"
      },
      "source": [
        "activation_layers(modelx, layer_names, img_tensor, pos=5)"
      ],
      "execution_count": null,
      "outputs": []
    },
    {
      "cell_type": "code",
      "metadata": {
        "id": "jlrytEG2uBKz"
      },
      "source": [
        "activation_layers(modelx, layer_names, img_tensor, pos=6)"
      ],
      "execution_count": null,
      "outputs": []
    },
    {
      "cell_type": "code",
      "metadata": {
        "id": "vebINDvyuBFm"
      },
      "source": [
        "activation_layers(modelx, layer_names, img_tensor, pos=7)"
      ],
      "execution_count": null,
      "outputs": []
    },
    {
      "cell_type": "code",
      "metadata": {
        "id": "KkkVkBy1uBDO"
      },
      "source": [
        "activation_layers(modelx, layer_names, img_tensor, pos=8)"
      ],
      "execution_count": null,
      "outputs": []
    },
    {
      "cell_type": "code",
      "metadata": {
        "id": "PQ6LFe-wuBAu"
      },
      "source": [
        "activation_layers(modelx, layer_names, img_tensor, pos=9)"
      ],
      "execution_count": null,
      "outputs": []
    },
    {
      "cell_type": "code",
      "metadata": {
        "id": "2csxpKmiuA-U"
      },
      "source": [
        "activation_layers(modelx, layer_names, img_tensor, pos=10)"
      ],
      "execution_count": null,
      "outputs": []
    },
    {
      "cell_type": "code",
      "metadata": {
        "id": "9fPMz9MouA7s"
      },
      "source": [
        "activation_layers(modelx, layer_names, img_tensor, pos=11)"
      ],
      "execution_count": null,
      "outputs": []
    },
    {
      "cell_type": "code",
      "metadata": {
        "id": "ASF7bVWyuA5U"
      },
      "source": [
        "activation_layers(modelx, layer_names, img_tensor, pos=12)"
      ],
      "execution_count": null,
      "outputs": []
    },
    {
      "cell_type": "code",
      "metadata": {
        "id": "iEQXT-z9uA2u"
      },
      "source": [
        "activation_layers(modelx, layer_names, img_tensor, pos=13)"
      ],
      "execution_count": null,
      "outputs": []
    },
    {
      "cell_type": "code",
      "metadata": {
        "id": "w-5s6QPsuA0P"
      },
      "source": [
        "activation_layers(modelx, layer_names, img_tensor, pos=14)"
      ],
      "execution_count": null,
      "outputs": []
    },
    {
      "cell_type": "code",
      "metadata": {
        "id": "1WMlfuGjuAwJ"
      },
      "source": [
        "activation_layers(modelx, layer_names, img_tensor, pos=15)"
      ],
      "execution_count": null,
      "outputs": []
    },
    {
      "cell_type": "code",
      "metadata": {
        "id": "IOgcitv1uAtT"
      },
      "source": [
        "activation_layers(modelx, layer_names, img_tensor, pos=16)"
      ],
      "execution_count": null,
      "outputs": []
    },
    {
      "cell_type": "code",
      "metadata": {
        "id": "YrKAc_KruArF"
      },
      "source": [
        "activation_layers(modelx, layer_names, img_tensor, pos=17)"
      ],
      "execution_count": null,
      "outputs": []
    },
    {
      "cell_type": "code",
      "metadata": {
        "id": "Ts2Tx6chuAoN"
      },
      "source": [
        "activation_layers(modelx, layer_names, img_tensor, pos=18)"
      ],
      "execution_count": null,
      "outputs": []
    },
    {
      "cell_type": "code",
      "metadata": {
        "id": "hOQGqu4BuAls"
      },
      "source": [
        "activation_layers(modelx, layer_names, img_tensor, pos=19)"
      ],
      "execution_count": null,
      "outputs": []
    },
    {
      "cell_type": "code",
      "metadata": {
        "id": "w4XTVwkyuAi9"
      },
      "source": [
        "activation_layers(modelx, layer_names, img_tensor, pos=20)"
      ],
      "execution_count": null,
      "outputs": []
    },
    {
      "cell_type": "code",
      "metadata": {
        "id": "ouik_8P-uAgs"
      },
      "source": [
        "activation_layers(modelx, layer_names, img_tensor, pos=21)"
      ],
      "execution_count": null,
      "outputs": []
    },
    {
      "cell_type": "code",
      "metadata": {
        "id": "t_8wmdaRuAd8"
      },
      "source": [
        "activation_layers(modelx, layer_names, img_tensor, pos=22)"
      ],
      "execution_count": null,
      "outputs": []
    },
    {
      "cell_type": "code",
      "metadata": {
        "id": "s5c63SsjuAbN"
      },
      "source": [
        "activation_layers(modelx, layer_names, img_tensor, pos=23)"
      ],
      "execution_count": null,
      "outputs": []
    },
    {
      "cell_type": "code",
      "metadata": {
        "id": "Av5R6I8GuAYs"
      },
      "source": [
        "activation_layers(modelx, layer_names, img_tensor, pos=24)"
      ],
      "execution_count": null,
      "outputs": []
    },
    {
      "cell_type": "code",
      "metadata": {
        "id": "ssNHiCa6uAV0"
      },
      "source": [
        "activation_layers(modelx, layer_names, img_tensor, pos=25)"
      ],
      "execution_count": null,
      "outputs": []
    },
    {
      "cell_type": "code",
      "metadata": {
        "id": "sy-kXIscuIl9"
      },
      "source": [
        "activation_layers(modelx, layer_names, img_tensor, pos=26)"
      ],
      "execution_count": null,
      "outputs": []
    },
    {
      "cell_type": "code",
      "metadata": {
        "id": "9emKG05IuIkM"
      },
      "source": [
        "activation_layers(modelx, layer_names, img_tensor, pos=27)"
      ],
      "execution_count": null,
      "outputs": []
    },
    {
      "cell_type": "code",
      "metadata": {
        "id": "Saky4NyLuIh7"
      },
      "source": [
        "activation_layers(modelx, layer_names, img_tensor, pos=28)"
      ],
      "execution_count": null,
      "outputs": []
    },
    {
      "cell_type": "code",
      "metadata": {
        "id": "7XRu9BgYuIdJ"
      },
      "source": [
        "activation_layers(modelx, layer_names, img_tensor, pos=29)"
      ],
      "execution_count": null,
      "outputs": []
    },
    {
      "cell_type": "code",
      "metadata": {
        "id": "kzjzZTKFuIa5"
      },
      "source": [
        "activation_layers(modelx, layer_names, img_tensor, pos=30)"
      ],
      "execution_count": null,
      "outputs": []
    },
    {
      "cell_type": "code",
      "metadata": {
        "id": "CbQNLkRpuIZE"
      },
      "source": [
        "activation_layers(modelx, layer_names, img_tensor, pos=31)"
      ],
      "execution_count": null,
      "outputs": []
    },
    {
      "cell_type": "code",
      "metadata": {
        "id": "us42eeuxuIV0"
      },
      "source": [
        "activation_layers(modelx, layer_names, img_tensor, pos=32)"
      ],
      "execution_count": null,
      "outputs": []
    },
    {
      "cell_type": "code",
      "metadata": {
        "id": "xMHD_Ku8uITM"
      },
      "source": [
        "activation_layers(modelx, layer_names, img_tensor, pos=33)"
      ],
      "execution_count": null,
      "outputs": []
    },
    {
      "cell_type": "code",
      "metadata": {
        "id": "pTpy3qY5uIQy"
      },
      "source": [
        "activation_layers(modelx, layer_names, img_tensor, pos=34)"
      ],
      "execution_count": null,
      "outputs": []
    },
    {
      "cell_type": "code",
      "metadata": {
        "id": "W-SR4DRyuIOD"
      },
      "source": [
        "activation_layers(modelx, layer_names, img_tensor, pos=35)"
      ],
      "execution_count": null,
      "outputs": []
    },
    {
      "cell_type": "code",
      "metadata": {
        "id": "Sq_cai5guILc"
      },
      "source": [
        "activation_layers(modelx, layer_names, img_tensor, pos=36)"
      ],
      "execution_count": null,
      "outputs": []
    },
    {
      "cell_type": "code",
      "metadata": {
        "id": "PAb6wvBNuIJA"
      },
      "source": [
        "activation_layers(modelx, layer_names, img_tensor, pos=37)"
      ],
      "execution_count": null,
      "outputs": []
    },
    {
      "cell_type": "code",
      "metadata": {
        "id": "yKJzH_8NuIGh"
      },
      "source": [
        "activation_layers(modelx, layer_names, img_tensor, pos=38)"
      ],
      "execution_count": null,
      "outputs": []
    },
    {
      "cell_type": "code",
      "metadata": {
        "id": "Moxg81uTuMff"
      },
      "source": [
        "activation_layers(modelx, layer_names, img_tensor, pos=39)"
      ],
      "execution_count": null,
      "outputs": []
    },
    {
      "cell_type": "code",
      "metadata": {
        "id": "WcGc3WS9uMdV"
      },
      "source": [
        "activation_layers(modelx, layer_names, img_tensor, pos=40)"
      ],
      "execution_count": null,
      "outputs": []
    },
    {
      "cell_type": "code",
      "metadata": {
        "id": "PE3cY8ETuMYf"
      },
      "source": [
        "activation_layers(modelx, layer_names, img_tensor, pos=41)"
      ],
      "execution_count": null,
      "outputs": []
    },
    {
      "cell_type": "code",
      "metadata": {
        "id": "Sm6NL-8cuMWD"
      },
      "source": [
        "activation_layers(modelx, layer_names, img_tensor, pos=42)"
      ],
      "execution_count": null,
      "outputs": []
    },
    {
      "cell_type": "code",
      "metadata": {
        "id": "caldtEUTuMT8"
      },
      "source": [
        "activation_layers(modelx, layer_names, img_tensor, pos=43)"
      ],
      "execution_count": null,
      "outputs": []
    },
    {
      "cell_type": "code",
      "metadata": {
        "id": "Vgw1_QsJuMQ7"
      },
      "source": [
        "activation_layers(modelx, layer_names, img_tensor, pos=44)"
      ],
      "execution_count": null,
      "outputs": []
    },
    {
      "cell_type": "code",
      "metadata": {
        "id": "IiWSiXSduMOU"
      },
      "source": [
        "activation_layers(modelx, layer_names, img_tensor, pos=45)"
      ],
      "execution_count": null,
      "outputs": []
    },
    {
      "cell_type": "code",
      "metadata": {
        "id": "REPsoe4vu-pV"
      },
      "source": [
        "activation_layers(modelx, layer_names, img_tensor, pos=46)"
      ],
      "execution_count": null,
      "outputs": []
    },
    {
      "cell_type": "code",
      "metadata": {
        "id": "qMM6F0yCu-gv"
      },
      "source": [
        "activation_layers(modelx, layer_names, img_tensor, pos=47)"
      ],
      "execution_count": null,
      "outputs": []
    },
    {
      "cell_type": "code",
      "metadata": {
        "id": "aMGI29Wfu-Ym"
      },
      "source": [
        "activation_layers(modelx, layer_names, img_tensor, pos=48)"
      ],
      "execution_count": null,
      "outputs": []
    },
    {
      "cell_type": "code",
      "metadata": {
        "id": "ciAvO0_Gu-Qj"
      },
      "source": [
        "activation_layers(modelx, layer_names, img_tensor, pos=49)"
      ],
      "execution_count": null,
      "outputs": []
    },
    {
      "cell_type": "code",
      "metadata": {
        "id": "TJhzdFbTu-Ic"
      },
      "source": [
        "activation_layers(modelx, layer_names, img_tensor, pos=50)"
      ],
      "execution_count": null,
      "outputs": []
    },
    {
      "cell_type": "code",
      "metadata": {
        "id": "5eMhpAATu-A1"
      },
      "source": [
        "activation_layers(modelx, layer_names, img_tensor, pos=51)"
      ],
      "execution_count": null,
      "outputs": []
    },
    {
      "cell_type": "code",
      "metadata": {
        "id": "w0qkCCS1u93z"
      },
      "source": [
        "activation_layers(modelx, layer_names, img_tensor, pos=52)"
      ],
      "execution_count": null,
      "outputs": []
    }
  ]
}
